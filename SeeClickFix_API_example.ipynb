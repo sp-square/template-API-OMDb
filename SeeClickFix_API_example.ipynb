{
 "cells": [
  {
   "cell_type": "markdown",
   "id": "75f14231",
   "metadata": {},
   "source": [
    "Pull one page of 100 results from seeclickfix using the global PARAMS value if the parameters are not supplied. If there are more than 100 results, make another pull passing parameters that include the next page to be pulled."
   ]
  },
  {
   "cell_type": "code",
   "execution_count": 1,
   "id": "c2e6d905",
   "metadata": {},
   "outputs": [],
   "source": [
    "import requests\n",
    "import json"
   ]
  },
  {
   "cell_type": "code",
   "execution_count": 2,
   "id": "cdf76c8c",
   "metadata": {},
   "outputs": [],
   "source": [
    "def get_seeclickfix(page=1, pulled=0, search_params={\n",
    "    'place_url': 'district-of-columbia',\n",
    "    'after': '2020-10-01T00:00:00Z',\n",
    "    'per_page': 100\n",
    "}):\n",
    "    # base_url for seeclickfix api to build the request url\n",
    "    base_url = 'https://seeclickfix.com/api/v2/issues'\n",
    "    \n",
    "    # send a get request with the url, parameters, and header\n",
    "    r = requests.get(url=base_url, params=search_params)\n",
    "    \n",
    "    # for successful API call, response code will be 200 (OK)\n",
    "    if (r.ok):\n",
    "        \n",
    "        # load the response data into a dict variable\n",
    "        data = json.loads(r.content.decode('utf-8'))\n",
    "        print(data['metadata'])\n",
    "        \n",
    "        # get the total search result count and set it to count_all. The API only allows 100 results per page\n",
    "        count_all = data['metadata']['pagination']['entries']\n",
    "        print(count_all)\n",
    "        \n",
    "        # track the number of items we have pulled with our requests\n",
    "        pulled += 100\n",
    "        \n",
    "        # create a file name that reflects which page of results it contains and write that file\n",
    "        file_name = f\"seeclickfix{page}.json\"\n",
    "        with open(file_name, 'w') as outfile:\n",
    "            json.dump(data, outfile)\n",
    "            \n",
    "        # check to see if we pulled all the results. If not, increment the page count, update the parameters dictionary to include the page number, and run the process again.\n",
    "        if pulled < count_all:\n",
    "            page += 1\n",
    "            page_param = {'page': page}\n",
    "            search_params.update(page_param)\n",
    "            # print the params to monitor progress\n",
    "            print(search_params)\n",
    "            get_seeclickfix(page, pulled, search_params)\n",
    "        \n",
    "    else:\n",
    "        # if response code is not ok (200), print the resulting http error\n",
    "        r.raise_for_status()"
   ]
  },
  {
   "cell_type": "code",
   "execution_count": 3,
   "id": "a4bb9874",
   "metadata": {},
   "outputs": [
    {
     "name": "stdout",
     "output_type": "stream",
     "text": [
      "{'pagination': {'entries': 491, 'page': 1, 'per_page': 100, 'pages': 5, 'next_page': 2, 'next_page_url': 'https://seeclickfix.com/api/v2/issues?after=2020-10-01T00%3A00%3A00Z&page=2&per_page=100&place_url=district-of-columbia', 'previous_page': None, 'previous_page_url': None}}\n",
      "491\n",
      "{'place_url': 'district-of-columbia', 'after': '2020-10-01T00:00:00Z', 'per_page': 100, 'page': 2}\n",
      "{'pagination': {'entries': 491, 'page': 2, 'per_page': 100, 'pages': 5, 'next_page': 3, 'next_page_url': 'https://seeclickfix.com/api/v2/issues?after=2020-10-01T00%3A00%3A00Z&page=3&per_page=100&place_url=district-of-columbia', 'previous_page': 1, 'previous_page_url': 'https://seeclickfix.com/api/v2/issues?after=2020-10-01T00%3A00%3A00Z&page=1&per_page=100&place_url=district-of-columbia'}}\n",
      "491\n",
      "{'place_url': 'district-of-columbia', 'after': '2020-10-01T00:00:00Z', 'per_page': 100, 'page': 3}\n",
      "{'pagination': {'entries': 491, 'page': 3, 'per_page': 100, 'pages': 5, 'next_page': 4, 'next_page_url': 'https://seeclickfix.com/api/v2/issues?after=2020-10-01T00%3A00%3A00Z&page=4&per_page=100&place_url=district-of-columbia', 'previous_page': 2, 'previous_page_url': 'https://seeclickfix.com/api/v2/issues?after=2020-10-01T00%3A00%3A00Z&page=2&per_page=100&place_url=district-of-columbia'}}\n",
      "491\n",
      "{'place_url': 'district-of-columbia', 'after': '2020-10-01T00:00:00Z', 'per_page': 100, 'page': 4}\n",
      "{'pagination': {'entries': 491, 'page': 4, 'per_page': 100, 'pages': 5, 'next_page': 5, 'next_page_url': 'https://seeclickfix.com/api/v2/issues?after=2020-10-01T00%3A00%3A00Z&page=5&per_page=100&place_url=district-of-columbia', 'previous_page': 3, 'previous_page_url': 'https://seeclickfix.com/api/v2/issues?after=2020-10-01T00%3A00%3A00Z&page=3&per_page=100&place_url=district-of-columbia'}}\n",
      "491\n",
      "{'place_url': 'district-of-columbia', 'after': '2020-10-01T00:00:00Z', 'per_page': 100, 'page': 5}\n",
      "{'pagination': {'entries': 491, 'page': 5, 'per_page': 100, 'pages': 5, 'next_page': None, 'next_page_url': None, 'previous_page': 4, 'previous_page_url': 'https://seeclickfix.com/api/v2/issues?after=2020-10-01T00%3A00%3A00Z&page=4&per_page=100&place_url=district-of-columbia'}}\n",
      "491\n"
     ]
    }
   ],
   "source": [
    "if __name__ == '__main__':\n",
    "    get_seeclickfix()"
   ]
  },
  {
   "cell_type": "code",
   "execution_count": null,
   "id": "6c71738b",
   "metadata": {},
   "outputs": [],
   "source": []
  }
 ],
 "metadata": {
  "kernelspec": {
   "display_name": "Python 3",
   "language": "python",
   "name": "python3"
  },
  "language_info": {
   "codemirror_mode": {
    "name": "ipython",
    "version": 3
   },
   "file_extension": ".py",
   "mimetype": "text/x-python",
   "name": "python",
   "nbconvert_exporter": "python",
   "pygments_lexer": "ipython3",
   "version": "3.8.8"
  }
 },
 "nbformat": 4,
 "nbformat_minor": 5
}
